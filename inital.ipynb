{
 "cells": [
  {
   "cell_type": "code",
   "execution_count": 496,
   "metadata": {},
   "outputs": [],
   "source": [
    "import openai as oai\n",
    "import os\n",
    "import pandas as pd\n",
    "from dotenv import load_dotenv\n",
    "import spotipy\n",
    "from spotipy.oauth2 import SpotifyOAuth\n",
    "import requests\n",
    "from typing import List"
   ]
  },
  {
   "cell_type": "code",
   "execution_count": 497,
   "metadata": {},
   "outputs": [],
   "source": [
    "def get_songlist(playlist_orig_name: str) -> List[str]:\n",
    "    scope = \"playlist-read-private\"\n",
    "    sp = spotipy.Spotify(auth_manager=SpotifyOAuth(scope=scope))\n",
    "    playlists = sp.current_user_playlists()\n",
    "    songlist = []\n",
    "    for playlist in playlists['items']:\n",
    "        if playlist['name'] == playlist_orig_name:\n",
    "            results = sp.playlist_tracks(playlist['id'])\n",
    "            for idx, item in enumerate(results['items']):\n",
    "                track = item['track']\n",
    "                song = track['artists'][0]['name'] + \" – \" + track['name']\n",
    "                songlist.append(song)\n",
    "    return songlist"
   ]
  },
  {
   "cell_type": "code",
   "execution_count": 537,
   "metadata": {},
   "outputs": [],
   "source": [
    "def create_chat_prompt(songlist: List[str]) -> str:\n",
    "    chat_prompt = \"Make me a new 5 song spotify playlist, consisting of songs officially released (no unreleased music). \"\n",
    "    chat_prompt += \"Each song recommendation should be based on these 5 songs, and if possible, based on more than 1 song at a time. \"\n",
    "    chat_prompt += \"Each song should only print the main artist, and the title should be the officially released title.\"\n",
    "    chat_prompt += \"The reasoning for choosing each song should be at least a sentence, meaningful, and explain why it was recommended. : \\n\"\n",
    "    for song in songlist:\n",
    "        chat_prompt += song + \"\\n\"\n",
    "    chat_prompt += \"The exact formatting should be: \\n 'Artist' - 'Song Name' - 'Reasoning'. Don't use ' - ' in your reasoning.\"\n",
    "    return chat_prompt\n"
   ]
  },
  {
   "cell_type": "code",
   "execution_count": 538,
   "metadata": {},
   "outputs": [],
   "source": [
    "def get_recommendations(chat_prompt: str, openAIcount: int) -> str:\n",
    "    oai_response = oai.Completion.create(\n",
    "        model=\"text-davinci-003\", prompt=chat_prompt, temperature=1, max_tokens=1000)\n",
    "    new_playlist_response = oai_response['choices'][0]['text'].strip()\n",
    "    openAIcount += 1\n",
    "    print(\"OpenAI calls: \" + str(openAIcount))\n",
    "    return new_playlist_response"
   ]
  },
  {
   "cell_type": "code",
   "execution_count": 539,
   "metadata": {},
   "outputs": [],
   "source": [
    "def recomendations_to_list(new_playlist_response: str) -> List[str]:\n",
    "    songs = []\n",
    "    new_playlist_songs = list(filter(None, new_playlist_response.split('\\n')))\n",
    "    for song in new_playlist_songs:\n",
    "        artist, title, reasoning = song.split(' - ')\n",
    "        song_dict = {\"title\": title, \"artist\": artist, \"reasoning\": reasoning}\n",
    "        songs.append(song_dict)\n",
    "    return songs"
   ]
  },
  {
   "cell_type": "code",
   "execution_count": 540,
   "metadata": {},
   "outputs": [],
   "source": [
    "def get_track_ids(songs: List[str]) -> List[str]:\n",
    "    scope = \"playlist-read-private\"\n",
    "    sp = spotipy.Spotify(auth_manager=SpotifyOAuth(scope=scope))\n",
    "    track_ids = []\n",
    "    for song in songs:\n",
    "        artist = song['artist']\n",
    "        title = song['title']\n",
    "        result = sp.search(q=\"track:{} artist:{}\".format(\n",
    "            title, artist), type='track')\n",
    "        if result['tracks']['items']:\n",
    "            track_ids.append(result['tracks']['items'][0]['id'])\n",
    "        else:\n",
    "            print('Could not find track ID for {} by {}'.format(title, artist))\n",
    "            track_ids.append('N/A')\n",
    "    return track_ids"
   ]
  },
  {
   "cell_type": "code",
   "execution_count": 541,
   "metadata": {},
   "outputs": [],
   "source": [
    "def create_hastebin(new_playlist_response: str, hastebin_token: str) -> str:\n",
    "    url = \"https://hastebin.com/documents\"\n",
    "    response = requests.post(url, headers={\"Authorization\": f\"Bearer {hastebin_token}\",\n",
    "                             \"content-type\": \"text/plain\"}, data=new_playlist_response.encode('utf-8'))\n",
    "    if response.status_code == 200:\n",
    "        key = response.json()[\"key\"]\n",
    "        haste_url = f\"https://hastebin.com/share/{key}\"\n",
    "    else:\n",
    "        haste_url = \"Failed to create hastebin\"\n",
    "    return haste_url"
   ]
  },
  {
   "cell_type": "code",
   "execution_count": 542,
   "metadata": {},
   "outputs": [],
   "source": [
    "def create_playlist(track_ids: List[str], haste_url: str) -> str:\n",
    "    playlist_name = \"spotAI generated\"\n",
    "    playlist_description = f'A playlist generated by spotAI. Learn more about the selection of each song at: {haste_url}'\n",
    "    scope = 'playlist-modify-public'\n",
    "\n",
    "    sp = spotipy.Spotify(auth_manager=SpotifyOAuth(scope=scope))\n",
    "\n",
    "    new_playlist = sp.user_playlist_create(user=sp.current_user(\n",
    "    )['id'], name=playlist_name, description=playlist_description)\n",
    "    playlist_id = new_playlist['id']\n",
    "    track_ids = [id for id in track_ids if id != 'N/A']\n",
    "\n",
    "    sp.playlist_add_items(playlist_id=playlist_id, items=track_ids)\n",
    "\n",
    "    for i in range(0,10):\n",
    "        sp.playlist_change_details(\n",
    "            playlist_id=playlist_id, description=playlist_description)\n",
    "\n",
    "    return 'complete'\n"
   ]
  },
  {
   "cell_type": "code",
   "execution_count": 543,
   "metadata": {},
   "outputs": [],
   "source": [
    "def main():\n",
    "    load_dotenv()\n",
    "    oai.api_key = os.getenv(\"OPENAI_API_KEY\")\n",
    "    hastebin_token = os.getenv(\"HASTEBIN_TOKEN\")\n",
    "    playlist_orig_name = \"spotAI\"\n",
    "    openAIcount = 0\n",
    "    songlist = get_songlist(playlist_orig_name)\n",
    "    chat_prompt = create_chat_prompt(songlist)\n",
    "    new_playlist_response = get_recommendations(chat_prompt, openAIcount)\n",
    "    songs = recomendations_to_list(new_playlist_response)\n",
    "    track_ids = get_track_ids(songs)\n",
    "    # while (track_ids.count('N/A') >= 2 & openAIcount < 3):\n",
    "    #     openAIcount += 1\n",
    "    #     new_playlist_response = get_recommendations(chat_prompt)\n",
    "    #     songs = recomendations_to_list(new_playlist_response)\n",
    "    #     track_ids = get_track_ids(songs)\n",
    "    haste_url = create_hastebin(new_playlist_response, hastebin_token)\n",
    "    create_playlist(track_ids, haste_url)\n"
   ]
  },
  {
   "cell_type": "code",
   "execution_count": 544,
   "metadata": {},
   "outputs": [
    {
     "name": "stderr",
     "output_type": "stream",
     "text": [
      "Using `localhost` as redirect URI without a port. Specify a port (e.g. `localhost:8080`) to allow automatic retrieval of authentication code instead of having to copy and paste the URL your browser is redirected to.\n"
     ]
    },
    {
     "name": "stdout",
     "output_type": "stream",
     "text": [
      "OpenAI calls: 1\n"
     ]
    },
    {
     "name": "stderr",
     "output_type": "stream",
     "text": [
      "Using `localhost` as redirect URI without a port. Specify a port (e.g. `localhost:8080`) to allow automatic retrieval of authentication code instead of having to copy and paste the URL your browser is redirected to.\n"
     ]
    }
   ],
   "source": [
    "if __name__ == \"__main__\":\n",
    "    main()"
   ]
  },
  {
   "cell_type": "code",
   "execution_count": null,
   "metadata": {},
   "outputs": [],
   "source": []
  },
  {
   "cell_type": "code",
   "execution_count": null,
   "metadata": {},
   "outputs": [],
   "source": []
  }
 ],
 "metadata": {
  "kernelspec": {
   "display_name": "class_files",
   "language": "python",
   "name": "python3"
  },
  "language_info": {
   "codemirror_mode": {
    "name": "ipython",
    "version": 3
   },
   "file_extension": ".py",
   "mimetype": "text/x-python",
   "name": "python",
   "nbconvert_exporter": "python",
   "pygments_lexer": "ipython3",
   "version": "3.8.13"
  },
  "orig_nbformat": 4
 },
 "nbformat": 4,
 "nbformat_minor": 2
}
