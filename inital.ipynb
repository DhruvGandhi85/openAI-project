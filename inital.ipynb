{
 "cells": [
  {
   "cell_type": "code",
   "execution_count": 60,
   "metadata": {},
   "outputs": [],
   "source": [
    "import openai as oai\n",
    "import os\n",
    "import pandas as pd\n",
    "from dotenv import load_dotenv\n",
    "import spotipy\n",
    "from spotipy.oauth2 import SpotifyOAuth\n",
    "import Hastebin\n",
    "import requests\n",
    "load_dotenv()\n",
    "oai.api_key  = os.getenv(\"OPENAI_API_KEY\")"
   ]
  },
  {
   "cell_type": "code",
   "execution_count": 28,
   "metadata": {},
   "outputs": [
    {
     "name": "stdout",
     "output_type": "stream",
     "text": [
      "['Taylor Swift – Wildest Dreams', 'Joji – Sanctuary', 'Post Malone – Otherside', 'tobi lou – hot tub DREAM Machine', \"Kid Cudi – Elsie's Baby Boy (flashback)\"]\n"
     ]
    }
   ],
   "source": [
    "scope = \"playlist-read-private\"\n",
    "\n",
    "sp = spotipy.Spotify(auth_manager=SpotifyOAuth(scope=scope))\n",
    "\n",
    "playlists = sp.current_user_playlists()\n",
    "\n",
    "songlist = []\n",
    "for playlist in playlists['items']:\n",
    "    if playlist['name'] == 'spotAIfy project':\n",
    "        results = sp.playlist_tracks(playlist['id'])\n",
    "        for idx, item in enumerate(results['items']):\n",
    "            track = item['track']\n",
    "            song = track['artists'][0]['name'] + \" – \" + track['name']\n",
    "            songlist.append(song)\n",
    "print(songlist)\n"
   ]
  },
  {
   "cell_type": "code",
   "execution_count": 43,
   "metadata": {},
   "outputs": [
    {
     "name": "stdout",
     "output_type": "stream",
     "text": [
      "Make me a new 5 song spotify playlist based on these 5 songs: \n",
      "Taylor Swift – Wildest Dreams\n",
      "Joji – Sanctuary\n",
      "Post Malone – Otherside\n",
      "tobi lou – hot tub DREAM Machine\n",
      "Kid Cudi – Elsie's Baby Boy (flashback)\n",
      "After listing the new songs, write 'End of List'. After the list is completed, give reasoning for each new song. \n",
      "\n"
     ]
    }
   ],
   "source": [
    "chat_prompt = \"Make me a new 5 song spotify playlist based on these 5 songs: \\n\"\n",
    "for song in songlist:\n",
    "    chat_prompt += song + \"\\n\"\n",
    "chat_prompt += \"After listing the new songs, write 'End of List'. After the list is completed, give reasoning for each new song. \\n\"\n",
    "print(chat_prompt)"
   ]
  },
  {
   "cell_type": "code",
   "execution_count": 44,
   "metadata": {},
   "outputs": [
    {
     "name": "stdout",
     "output_type": "stream",
     "text": [
      "\n",
      "Alicia Keys - Underdog\n",
      "Khalid - Silence\n",
      "Billie Eilish - Everything I Wanted\n",
      "Bea Miller - to the grave\n",
      "Lana Del Rey - Starry Eyed\n",
      "End of List\n",
      "\n",
      "Alicia Keys - Underdog: This upbeat anthem is a perfect way to continue the vibe from the previous songs. It's a great way to keep the party going and keep the energy up. \n",
      "\n",
      "Khalid - Silence: For a more laid-back and reflective track, Khalid's Silence is the way to go. It's a great contrast after the upbeat vibes, and also fits with the overall mellow theme of the list.\n",
      "\n",
      "Billie Eilish - Everything I Wanted: This track is an upbeat and fast-paced pop song that adds to the mix and keeps the energy going. Its catchy melody will keep the listener engaged. \n",
      "\n",
      "Bea Miller - to the grave: For a mellow and laid-back track, Bea Miller's to the grave is a great option. It's a slower paced track that will bring a more relaxed atmosphere. \n",
      "\n",
      "Lana Del Rey - Starry Eyed: This is a perfect way to end the list as it has a dreamy vibe that ties in with the title of Taylor Swift's song, Wildest Dreams. It's the perfect way to come full circle and finish off the list.\n"
     ]
    }
   ],
   "source": [
    "response = oai.Completion.create(model=\"text-davinci-003\", prompt=chat_prompt, temperature=1, max_tokens = 1000)"
   ]
  },
  {
   "cell_type": "code",
   "execution_count": 45,
   "metadata": {},
   "outputs": [
    {
     "name": "stdout",
     "output_type": "stream",
     "text": [
      "\n",
      "Alicia Keys - Underdog\n",
      "Khalid - Silence\n",
      "Billie Eilish - Everything I Wanted\n",
      "Bea Miller - to the grave\n",
      "Lana Del Rey - Starry Eyed\n",
      "End of List\n",
      "\n",
      "Alicia Keys - Underdog: This upbeat anthem is a perfect way to continue the vibe from the previous songs. It's a great way to keep the party going and keep the energy up. \n",
      "\n",
      "Khalid - Silence: For a more laid-back and reflective track, Khalid's Silence is the way to go. It's a great contrast after the upbeat vibes, and also fits with the overall mellow theme of the list.\n",
      "\n",
      "Billie Eilish - Everything I Wanted: This track is an upbeat and fast-paced pop song that adds to the mix and keeps the energy going. Its catchy melody will keep the listener engaged. \n",
      "\n",
      "Bea Miller - to the grave: For a mellow and laid-back track, Bea Miller's to the grave is a great option. It's a slower paced track that will bring a more relaxed atmosphere. \n",
      "\n",
      "Lana Del Rey - Starry Eyed: This is a perfect way to end the list as it has a dreamy vibe that ties in with the title of Taylor Swift's song, Wildest Dreams. It's the perfect way to come full circle and finish off the list.\n"
     ]
    }
   ],
   "source": [
    "new_playlist_response = response['choices'][0]['text']\n",
    "print(new_playlist_response)"
   ]
  },
  {
   "cell_type": "code",
   "execution_count": 62,
   "metadata": {},
   "outputs": [
    {
     "data": {
      "text/plain": [
       "{'Underdog': 'Alicia Keys',\n",
       " 'Silence': 'Khalid',\n",
       " 'Everything I Wanted': 'Billie Eilish',\n",
       " 'to the grave': 'Bea Miller',\n",
       " 'Starry Eyed': 'Lana Del Rey'}"
      ]
     },
     "execution_count": 62,
     "metadata": {},
     "output_type": "execute_result"
    }
   ],
   "source": [
    "new_playlist_songs = list(filter(None, new_playlist_response.split('End of List')[0].split('\\n')))\n",
    "songs = {}\n",
    "\n",
    "# Loop through the lines and split each one into a song name and artist\n",
    "for line in new_playlist_songs:\n",
    "    artist, song = line.split(' - ')\n",
    "    songs[song] = artist\n",
    "    \n",
    "new_playlist_descriptions = list(filter(None, new_playlist_response.split('End of List')[1].split('\\n')))\n",
    "songs"
   ]
  },
  {
   "cell_type": "code",
   "execution_count": 64,
   "metadata": {},
   "outputs": [
    {
     "name": "stdout",
     "output_type": "stream",
     "text": [
      "{'Underdog': '7FsAFw1oZeTJUZmIzSh0cg', 'Silence': '7vGuf3Y35N4wmASOKLUVVU', 'Everything I Wanted': '3ZCTVFBt2Brf31RLEnCkWJ', 'to the grave': '16itsMCWyAoz1rOVbWQUXI', 'Starry Eyed': '6A4Kuy7JL0Znab3Skgloiv'}\n"
     ]
    }
   ],
   "source": [
    "track_ids = {}\n",
    "\n",
    "# Loop through each song in the 'songs' dictionary\n",
    "for song in songs:\n",
    "    # Search for the song using the Spotipy library\n",
    "    results = sp.search(q=song, type='track', limit=1)\n",
    "    \n",
    "    # Extract the track ID from the search results\n",
    "    if len(results['tracks']['items']) > 0:\n",
    "        track_id = results['tracks']['items'][0]['id']\n",
    "        track_ids[song] = track_id\n",
    "    else:\n",
    "        print(f\"No track found for {song}\")\n",
    "    \n",
    "# Print the resulting dictionary of song names and track IDs\n",
    "print(track_ids)"
   ]
  },
  {
   "cell_type": "code",
   "execution_count": 61,
   "metadata": {},
   "outputs": [
    {
     "name": "stdout",
     "output_type": "stream",
     "text": [
      "Failed to create hastebin\n"
     ]
    }
   ],
   "source": [
    "text = new_playlist_response.split('End of List')[1]\n",
    "url = \"https://hastebin.com/documents\"\n",
    "response = requests.post(url, data=text.encode('utf-8'))\n",
    "\n",
    "if response.status_code == 200:\n",
    "    key = response.json()[\"key\"]\n",
    "    print(f\"Hastebin URL: https://hastebin.com/{key}\")\n",
    "else:\n",
    "    print(\"Failed to create hastebin\")\n"
   ]
  },
  {
   "cell_type": "code",
   "execution_count": 67,
   "metadata": {},
   "outputs": [
    {
     "name": "stderr",
     "output_type": "stream",
     "text": [
      "HTTP Error for POST to https://api.spotify.com/v1/users/dhruvgandhi853/playlists with Params: {} returned 403 due to Insufficient client scope\n"
     ]
    },
    {
     "ename": "SpotifyException",
     "evalue": "http status: 403, code:-1 - https://api.spotify.com/v1/users/dhruvgandhi853/playlists:\n Insufficient client scope, reason: None",
     "output_type": "error",
     "traceback": [
      "\u001b[0;31m---------------------------------------------------------------------------\u001b[0m",
      "\u001b[0;31mHTTPError\u001b[0m                                 Traceback (most recent call last)",
      "File \u001b[0;32m~/.conda/envs/class_files/lib/python3.8/site-packages/spotipy/client.py:271\u001b[0m, in \u001b[0;36mSpotify._internal_call\u001b[0;34m(self, method, url, payload, params)\u001b[0m\n\u001b[1;32m    266\u001b[0m response \u001b[39m=\u001b[39m \u001b[39mself\u001b[39m\u001b[39m.\u001b[39m_session\u001b[39m.\u001b[39mrequest(\n\u001b[1;32m    267\u001b[0m     method, url, headers\u001b[39m=\u001b[39mheaders, proxies\u001b[39m=\u001b[39m\u001b[39mself\u001b[39m\u001b[39m.\u001b[39mproxies,\n\u001b[1;32m    268\u001b[0m     timeout\u001b[39m=\u001b[39m\u001b[39mself\u001b[39m\u001b[39m.\u001b[39mrequests_timeout, \u001b[39m*\u001b[39m\u001b[39m*\u001b[39margs\n\u001b[1;32m    269\u001b[0m )\n\u001b[0;32m--> 271\u001b[0m response\u001b[39m.\u001b[39;49mraise_for_status()\n\u001b[1;32m    272\u001b[0m results \u001b[39m=\u001b[39m response\u001b[39m.\u001b[39mjson()\n",
      "File \u001b[0;32m~/.conda/envs/class_files/lib/python3.8/site-packages/requests/models.py:1021\u001b[0m, in \u001b[0;36mResponse.raise_for_status\u001b[0;34m(self)\u001b[0m\n\u001b[1;32m   1020\u001b[0m \u001b[39mif\u001b[39;00m http_error_msg:\n\u001b[0;32m-> 1021\u001b[0m     \u001b[39mraise\u001b[39;00m HTTPError(http_error_msg, response\u001b[39m=\u001b[39m\u001b[39mself\u001b[39m)\n",
      "\u001b[0;31mHTTPError\u001b[0m: 403 Client Error: Forbidden for url: https://api.spotify.com/v1/users/dhruvgandhi853/playlists",
      "\nDuring handling of the above exception, another exception occurred:\n",
      "\u001b[0;31mSpotifyException\u001b[0m                          Traceback (most recent call last)",
      "\u001b[1;32m/Users/dhruvgandhi/Documents/GitHub/openAI-project/inital.ipynb Cell 9\u001b[0m in \u001b[0;36m<cell line: 3>\u001b[0;34m()\u001b[0m\n\u001b[1;32m      <a href='vscode-notebook-cell:/Users/dhruvgandhi/Documents/GitHub/openAI-project/inital.ipynb#X13sZmlsZQ%3D%3D?line=0'>1</a>\u001b[0m playlist_name \u001b[39m=\u001b[39m \u001b[39m\"\u001b[39m\u001b[39mspotAIfy generated\u001b[39m\u001b[39m\"\u001b[39m\n\u001b[1;32m      <a href='vscode-notebook-cell:/Users/dhruvgandhi/Documents/GitHub/openAI-project/inital.ipynb#X13sZmlsZQ%3D%3D?line=1'>2</a>\u001b[0m scope \u001b[39m=\u001b[39m \u001b[39m\"\u001b[39m\u001b[39mplaylist-modify-public\u001b[39m\u001b[39m\"\u001b[39m\n\u001b[0;32m----> <a href='vscode-notebook-cell:/Users/dhruvgandhi/Documents/GitHub/openAI-project/inital.ipynb#X13sZmlsZQ%3D%3D?line=2'>3</a>\u001b[0m new_playlist \u001b[39m=\u001b[39m sp\u001b[39m.\u001b[39;49muser_playlist_create(user\u001b[39m=\u001b[39;49msp\u001b[39m.\u001b[39;49mcurrent_user()[\u001b[39m'\u001b[39;49m\u001b[39mid\u001b[39;49m\u001b[39m'\u001b[39;49m], name\u001b[39m=\u001b[39;49mplaylist_name)\n\u001b[1;32m      <a href='vscode-notebook-cell:/Users/dhruvgandhi/Documents/GitHub/openAI-project/inital.ipynb#X13sZmlsZQ%3D%3D?line=3'>4</a>\u001b[0m playlist_id \u001b[39m=\u001b[39m playlist[\u001b[39m'\u001b[39m\u001b[39mid\u001b[39m\u001b[39m'\u001b[39m]\n\u001b[1;32m      <a href='vscode-notebook-cell:/Users/dhruvgandhi/Documents/GitHub/openAI-project/inital.ipynb#X13sZmlsZQ%3D%3D?line=4'>5</a>\u001b[0m sp\u001b[39m.\u001b[39muser_playlist_add_tracks(sp\u001b[39m.\u001b[39mcurrent_user()[\u001b[39m'\u001b[39m\u001b[39mid\u001b[39m\u001b[39m'\u001b[39m], playlist_id, track_ids)\n",
      "File \u001b[0;32m~/.conda/envs/class_files/lib/python3.8/site-packages/spotipy/client.py:818\u001b[0m, in \u001b[0;36mSpotify.user_playlist_create\u001b[0;34m(self, user, name, public, collaborative, description)\u001b[0m\n\u001b[1;32m    802\u001b[0m \u001b[39m\"\"\" Creates a playlist for a user\u001b[39;00m\n\u001b[1;32m    803\u001b[0m \n\u001b[1;32m    804\u001b[0m \u001b[39m    Parameters:\u001b[39;00m\n\u001b[0;32m   (...)\u001b[0m\n\u001b[1;32m    809\u001b[0m \u001b[39m        - description - the description of the playlist\u001b[39;00m\n\u001b[1;32m    810\u001b[0m \u001b[39m\"\"\"\u001b[39;00m\n\u001b[1;32m    811\u001b[0m data \u001b[39m=\u001b[39m {\n\u001b[1;32m    812\u001b[0m     \u001b[39m\"\u001b[39m\u001b[39mname\u001b[39m\u001b[39m\"\u001b[39m: name,\n\u001b[1;32m    813\u001b[0m     \u001b[39m\"\u001b[39m\u001b[39mpublic\u001b[39m\u001b[39m\"\u001b[39m: public,\n\u001b[1;32m    814\u001b[0m     \u001b[39m\"\u001b[39m\u001b[39mcollaborative\u001b[39m\u001b[39m\"\u001b[39m: collaborative,\n\u001b[1;32m    815\u001b[0m     \u001b[39m\"\u001b[39m\u001b[39mdescription\u001b[39m\u001b[39m\"\u001b[39m: description\n\u001b[1;32m    816\u001b[0m }\n\u001b[0;32m--> 818\u001b[0m \u001b[39mreturn\u001b[39;00m \u001b[39mself\u001b[39;49m\u001b[39m.\u001b[39;49m_post(\u001b[39m\"\u001b[39;49m\u001b[39musers/\u001b[39;49m\u001b[39m%s\u001b[39;49;00m\u001b[39m/playlists\u001b[39;49m\u001b[39m\"\u001b[39;49m \u001b[39m%\u001b[39;49m (user,), payload\u001b[39m=\u001b[39;49mdata)\n",
      "File \u001b[0;32m~/.conda/envs/class_files/lib/python3.8/site-packages/spotipy/client.py:328\u001b[0m, in \u001b[0;36mSpotify._post\u001b[0;34m(self, url, args, payload, **kwargs)\u001b[0m\n\u001b[1;32m    326\u001b[0m \u001b[39mif\u001b[39;00m args:\n\u001b[1;32m    327\u001b[0m     kwargs\u001b[39m.\u001b[39mupdate(args)\n\u001b[0;32m--> 328\u001b[0m \u001b[39mreturn\u001b[39;00m \u001b[39mself\u001b[39;49m\u001b[39m.\u001b[39;49m_internal_call(\u001b[39m\"\u001b[39;49m\u001b[39mPOST\u001b[39;49m\u001b[39m\"\u001b[39;49m, url, payload, kwargs)\n",
      "File \u001b[0;32m~/.conda/envs/class_files/lib/python3.8/site-packages/spotipy/client.py:293\u001b[0m, in \u001b[0;36mSpotify._internal_call\u001b[0;34m(self, method, url, payload, params)\u001b[0m\n\u001b[1;32m    286\u001b[0m         reason \u001b[39m=\u001b[39m \u001b[39mNone\u001b[39;00m\n\u001b[1;32m    288\u001b[0m     logger\u001b[39m.\u001b[39merror(\n\u001b[1;32m    289\u001b[0m         \u001b[39m'\u001b[39m\u001b[39mHTTP Error for \u001b[39m\u001b[39m%s\u001b[39;00m\u001b[39m to \u001b[39m\u001b[39m%s\u001b[39;00m\u001b[39m with Params: \u001b[39m\u001b[39m%s\u001b[39;00m\u001b[39m returned \u001b[39m\u001b[39m%s\u001b[39;00m\u001b[39m due to \u001b[39m\u001b[39m%s\u001b[39;00m\u001b[39m'\u001b[39m,\n\u001b[1;32m    290\u001b[0m         method, url, args\u001b[39m.\u001b[39mget(\u001b[39m\"\u001b[39m\u001b[39mparams\u001b[39m\u001b[39m\"\u001b[39m), response\u001b[39m.\u001b[39mstatus_code, msg\n\u001b[1;32m    291\u001b[0m     )\n\u001b[0;32m--> 293\u001b[0m     \u001b[39mraise\u001b[39;00m SpotifyException(\n\u001b[1;32m    294\u001b[0m         response\u001b[39m.\u001b[39mstatus_code,\n\u001b[1;32m    295\u001b[0m         \u001b[39m-\u001b[39m\u001b[39m1\u001b[39m,\n\u001b[1;32m    296\u001b[0m         \u001b[39m\"\u001b[39m\u001b[39m%s\u001b[39;00m\u001b[39m:\u001b[39m\u001b[39m\\n\u001b[39;00m\u001b[39m \u001b[39m\u001b[39m%s\u001b[39;00m\u001b[39m\"\u001b[39m \u001b[39m%\u001b[39m (response\u001b[39m.\u001b[39murl, msg),\n\u001b[1;32m    297\u001b[0m         reason\u001b[39m=\u001b[39mreason,\n\u001b[1;32m    298\u001b[0m         headers\u001b[39m=\u001b[39mresponse\u001b[39m.\u001b[39mheaders,\n\u001b[1;32m    299\u001b[0m     )\n\u001b[1;32m    300\u001b[0m \u001b[39mexcept\u001b[39;00m requests\u001b[39m.\u001b[39mexceptions\u001b[39m.\u001b[39mRetryError \u001b[39mas\u001b[39;00m retry_error:\n\u001b[1;32m    301\u001b[0m     request \u001b[39m=\u001b[39m retry_error\u001b[39m.\u001b[39mrequest\n",
      "\u001b[0;31mSpotifyException\u001b[0m: http status: 403, code:-1 - https://api.spotify.com/v1/users/dhruvgandhi853/playlists:\n Insufficient client scope, reason: None"
     ]
    }
   ],
   "source": [
    "playlist_name = \"spotAIfy generated\"\n",
    "scope = \"playlist-modify-private\"\n",
    "new_playlist = sp.user_playlist_create(user=sp.current_user()['id'], name=playlist_name)\n",
    "playlist_id = playlist['id']\n",
    "sp.user_playlist_add_tracks(sp.current_user()['id'], playlist_id, track_ids)\n",
    "\n",
    "\n",
    "\n",
    "# Add the songs to the new playlist\n",
    "sp.playlist_add_items(playlist_id=new_playlist['id'], items=songs)"
   ]
  },
  {
   "cell_type": "code",
   "execution_count": null,
   "metadata": {},
   "outputs": [],
   "source": []
  }
 ],
 "metadata": {
  "kernelspec": {
   "display_name": "class_files",
   "language": "python",
   "name": "python3"
  },
  "language_info": {
   "codemirror_mode": {
    "name": "ipython",
    "version": 3
   },
   "file_extension": ".py",
   "mimetype": "text/x-python",
   "name": "python",
   "nbconvert_exporter": "python",
   "pygments_lexer": "ipython3",
   "version": "3.8.13"
  },
  "orig_nbformat": 4
 },
 "nbformat": 4,
 "nbformat_minor": 2
}
